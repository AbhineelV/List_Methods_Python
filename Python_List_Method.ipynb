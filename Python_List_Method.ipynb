{
 "cells": [
  {
   "cell_type": "markdown",
   "id": "b561726c-e731-48c9-9ab5-5e31182e6dec",
   "metadata": {},
   "source": [
    "# Python Array Append Method, add new parameter in array list"
   ]
  },
  {
   "cell_type": "code",
   "execution_count": 4,
   "id": "38a8c57c-a85a-4220-838f-369df3802639",
   "metadata": {},
   "outputs": [
    {
     "name": "stdout",
     "output_type": "stream",
     "text": [
      "['Potato', 'Onion', 'Cabbage', 'Chilli', 'Capsicum']\n"
     ]
    }
   ],
   "source": [
    "veg=[\"Potato\", \"Onion\", \"Cabbage\", \"Chilli\"]\n",
    "veg.append(\"Capsicum\")\n",
    "print(veg)"
   ]
  },
  {
   "cell_type": "markdown",
   "id": "816f5fdd-bf71-468c-a31e-3e7d6bc55669",
   "metadata": {},
   "source": [
    "# Python List Clear Method, to remove the parameter of array list"
   ]
  },
  {
   "cell_type": "code",
   "execution_count": 9,
   "id": "a700dd2e-26e9-43db-b3a5-2a05c4e7ef94",
   "metadata": {},
   "outputs": [
    {
     "name": "stdout",
     "output_type": "stream",
     "text": [
      "[]\n"
     ]
    }
   ],
   "source": [
    "l1 = [1,2,3,4,5,6,7]\n",
    "l1.clear()\n",
    "print(l1)"
   ]
  },
  {
   "cell_type": "markdown",
   "id": "de5d216d-18e4-479f-a78c-ada8b05a2d8b",
   "metadata": {},
   "source": [
    "# Python List Count Method, it will show how many times similiar value or parameter is their"
   ]
  },
  {
   "cell_type": "code",
   "execution_count": 22,
   "id": "20397171-0680-437b-829e-e2a572475999",
   "metadata": {},
   "outputs": [
    {
     "name": "stdout",
     "output_type": "stream",
     "text": [
      "a=2\n"
     ]
    }
   ],
   "source": [
    "alpha = [\"a\", \"b\", \"c\", \"a\",\"d\",\"e\",]\n",
    "value=alpha.count(\"a\")\n",
    "print(f'a={value}')"
   ]
  },
  {
   "cell_type": "markdown",
   "id": "ff0230f9-aeee-4d63-a502-a4b324ae25c7",
   "metadata": {},
   "source": [
    "# Python List Extend Method, it will add the 2nd array list value at the end of 1st array list value "
   ]
  },
  {
   "cell_type": "code",
   "execution_count": 25,
   "id": "4a137f13-20db-4266-9e36-ea843a63f669",
   "metadata": {},
   "outputs": [
    {
     "name": "stdout",
     "output_type": "stream",
     "text": [
      "['Hyundai', 'BMW', 'Audi', 'Venue', '320d', 'R8']\n"
     ]
    }
   ],
   "source": [
    "automobile = [\"Hyundai\", \"BMW\", \"Audi\"]\n",
    "car=[\"Venue\",\"320d\", \"R8\"]\n",
    "automobile.extend(car)\n",
    "print(automobile)"
   ]
  },
  {
   "cell_type": "markdown",
   "id": "19a0056a-b4c4-46bc-8480-af96d3cc07d1",
   "metadata": {},
   "source": [
    "# Python List Index Method, it will return the index value of parameter"
   ]
  },
  {
   "cell_type": "code",
   "execution_count": 28,
   "id": "5ecb073f-5f7c-4e77-a516-7fb9d5946f52",
   "metadata": {},
   "outputs": [
    {
     "name": "stdout",
     "output_type": "stream",
     "text": [
      "Biryani=2\n"
     ]
    }
   ],
   "source": [
    "menu=[\"Pasta\",\"Donut\",\"Biryani\"]\n",
    "food =menu.index(\"Biryani\")\n",
    "print(f'Biryani={food}')"
   ]
  },
  {
   "cell_type": "code",
   "execution_count": 30,
   "id": "b0bd63de-f4b4-45ac-8ac2-a7337d501acf",
   "metadata": {},
   "outputs": [
    {
     "name": "stdout",
     "output_type": "stream",
     "text": [
      "4=3\n"
     ]
    }
   ],
   "source": [
    "list = [1,2,3,4,5,6,7]\n",
    "num = list.index(4)\n",
    "print(f'4={num}')"
   ]
  },
  {
   "cell_type": "markdown",
   "id": "4380198e-d01f-412b-a76f-42d75495c3ce",
   "metadata": {},
   "source": [
    "# Python List Insert Method, to add new parameter at specific position by using index value"
   ]
  },
  {
   "cell_type": "code",
   "execution_count": 55,
   "id": "f231c40c-49a5-4667-b9f6-dffab1ffa025",
   "metadata": {},
   "outputs": [
    {
     "name": "stdout",
     "output_type": "stream",
     "text": [
      "twowheeler=['Bullet', 'Pulsar', 'CBR', 'Ninja', 'Ducati']\n"
     ]
    }
   ],
   "source": [
    "twowheeler = [\"Bullet\",\"Pulsar\",\"Ninja\",\"Ducati\"]\n",
    "twowheeler.insert(2,\"CBR\")\n",
    "print(f'twowheeler={twowheeler}')"
   ]
  },
  {
   "cell_type": "code",
   "execution_count": 57,
   "id": "54fa924e-7982-4608-b885-e650d380f714",
   "metadata": {},
   "outputs": [
    {
     "name": "stdout",
     "output_type": "stream",
     "text": [
      "list=[8, 1, 2, 3, 4, 5, 6, 7]\n"
     ]
    }
   ],
   "source": [
    "list = [1,2,3,4,5,6,7]\n",
    "list.insert(0,8)\n",
    "print(f'list={list}')"
   ]
  },
  {
   "cell_type": "markdown",
   "id": "771b38b0-d194-4f32-975c-7f7d6a061b13",
   "metadata": {},
   "source": [
    "# Python List Pop Method, it will remove the parameter from index value refrence"
   ]
  },
  {
   "cell_type": "code",
   "execution_count": 59,
   "id": "cb006e73-0dca-415c-9dc6-7520f3dcfecd",
   "metadata": {},
   "outputs": [
    {
     "name": "stdout",
     "output_type": "stream",
     "text": [
      "company=['Hyundai', 'BMW', 'Suzuki', 'Nissan']\n"
     ]
    }
   ],
   "source": [
    "company = [\"Hyundai\", \"BMW\", \"Audi\",\"Suzuki\",\"Nissan\"]\n",
    "company.pop(2)\n",
    "print(f'company={company}')"
   ]
  },
  {
   "cell_type": "code",
   "execution_count": 61,
   "id": "73413924-6ea7-454a-9e05-d4bf2eb73bd4",
   "metadata": {},
   "outputs": [
    {
     "name": "stdout",
     "output_type": "stream",
     "text": [
      "list=[1, 2, 3, 4, 5, 7]\n"
     ]
    }
   ],
   "source": [
    "list = [1,2,3,4,5,6,7]\n",
    "list.pop(5)\n",
    "print(f'list={list}')"
   ]
  },
  {
   "cell_type": "markdown",
   "id": "b5d83ed1-081f-44b8-9e13-fb2f8ceedeb8",
   "metadata": {},
   "source": [
    "# Python Remove Method, it will remove the parameter directly"
   ]
  },
  {
   "cell_type": "code",
   "execution_count": 63,
   "id": "1356759a-c337-4274-8577-59d00bb8e7b2",
   "metadata": {},
   "outputs": [
    {
     "name": "stdout",
     "output_type": "stream",
     "text": [
      "name=['Manoj', 'John', 'Pankaj']\n"
     ]
    }
   ],
   "source": [
    "name= [\"Manoj\",\"Kartik\",\"John\",\"Pankaj\"]\n",
    "name.remove(\"Kartik\")\n",
    "print(f'name={name}')"
   ]
  },
  {
   "cell_type": "markdown",
   "id": "af19726f-198f-4a4e-8cdb-b7bd74c0bdd7",
   "metadata": {},
   "source": [
    "# Python List Reverse Method, the list will show in reverse sort"
   ]
  },
  {
   "cell_type": "code",
   "execution_count": 65,
   "id": "082dd26c-cba6-446a-a2a5-18be62643714",
   "metadata": {},
   "outputs": [
    {
     "name": "stdout",
     "output_type": "stream",
     "text": [
      "list=[7, 6, 5, 4, 3, 2, 1]\n"
     ]
    }
   ],
   "source": [
    "list = [1,2,3,4,5,6,7]\n",
    "list.reverse()\n",
    "print(f'list={list}')"
   ]
  },
  {
   "cell_type": "code",
   "execution_count": 70,
   "id": "234330d4-2f26-4fc8-a679-7933f99da614",
   "metadata": {},
   "outputs": [
    {
     "name": "stdout",
     "output_type": "stream",
     "text": [
      "value=['val5', 'val4', 'val3', 'val2', 'val1']\n"
     ]
    }
   ],
   "source": [
    "value = [\"val1\",\"val2\",\"val3\",\"val4\",\"val5\"]\n",
    "value.reverse()\n",
    "print(f'value={value}')"
   ]
  },
  {
   "cell_type": "markdown",
   "id": "8eb17752-8ce4-4386-9829-ac6fd597a6b0",
   "metadata": {},
   "source": [
    "# Python Sorting Method, True will sort in Descending Order, False will Sort in Ascending Order, by default the sort is done ascending order"
   ]
  },
  {
   "cell_type": "code",
   "execution_count": 73,
   "id": "2769bb5a-ed95-4393-b4f0-21cece86dd37",
   "metadata": {},
   "outputs": [
    {
     "name": "stdout",
     "output_type": "stream",
     "text": [
      "list=[7, 6, 5, 4, 3, 2, 1]\n"
     ]
    }
   ],
   "source": [
    "list = [1,2,3,4,5,6,7]\n",
    "list.sort(reverse=True)\n",
    "print(f'list={list}')"
   ]
  },
  {
   "cell_type": "code",
   "execution_count": 75,
   "id": "ae534896-3190-4838-b747-47ff3bf3e4c1",
   "metadata": {},
   "outputs": [
    {
     "name": "stdout",
     "output_type": "stream",
     "text": [
      "list=[1, 2, 3, 4, 5, 6, 7]\n"
     ]
    }
   ],
   "source": [
    "list = [1,2,3,4,5,6,7]\n",
    "list.sort(reverse=False)\n",
    "print(f'list={list}')"
   ]
  }
 ],
 "metadata": {
  "kernelspec": {
   "display_name": "Python 3 (ipykernel)",
   "language": "python",
   "name": "python3"
  },
  "language_info": {
   "codemirror_mode": {
    "name": "ipython",
    "version": 3
   },
   "file_extension": ".py",
   "mimetype": "text/x-python",
   "name": "python",
   "nbconvert_exporter": "python",
   "pygments_lexer": "ipython3",
   "version": "3.11.7"
  }
 },
 "nbformat": 4,
 "nbformat_minor": 5
}
